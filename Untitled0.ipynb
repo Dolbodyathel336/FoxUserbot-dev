{
  "nbformat": 4,
  "nbformat_minor": 0,
  "metadata": {
    "colab": {
      "provenance": [],
      "authorship_tag": "ABX9TyPoRkWS8cUZJbZEyTLGap8r",
      "include_colab_link": true
    },
    "kernelspec": {
      "name": "python3",
      "display_name": "Python 3"
    },
    "language_info": {
      "name": "python"
    }
  },
  "cells": [
    {
      "cell_type": "markdown",
      "metadata": {
        "id": "view-in-github",
        "colab_type": "text"
      },
      "source": [
        "<a href=\"https://colab.research.google.com/github/Dolbodyathel336/FoxUserbot-dev/blob/main/Untitled0.ipynb\" target=\"_parent\"><img src=\"https://colab.research.google.com/assets/colab-badge.svg\" alt=\"Open In Colab\"/></a>"
      ]
    },
    {
      "cell_type": "markdown",
      "source": [
        "# FoxUserbot"
      ],
      "metadata": {
        "id": "MyFN1kfXLm0J"
      }
    },
    {
      "cell_type": "code",
      "source": [
        "from google.colab import drive\n",
        "drive.mount('/content/drive')"
      ],
      "metadata": {
        "colab": {
          "base_uri": "https://localhost:8080/"
        },
        "id": "cU0XfB94MPgn",
        "outputId": "66111ebf-683c-4ba5-a789-3a120a21ffec"
      },
      "execution_count": 15,
      "outputs": [
        {
          "output_type": "stream",
          "name": "stdout",
          "text": [
            "Drive already mounted at /content/drive; to attempt to forcibly remount, call drive.mount(\"/content/drive\", force_remount=True).\n"
          ]
        }
      ]
    },
    {
      "cell_type": "code",
      "source": [
        "!cd drive/MyDrive/ ; apt update -y && apt install python3 python3-pip python3-venv wget unzip -y && wget -O foxub.$$ https://github.com/FoxUserbot/FoxUserbot/archive/refs/heads/main.zip && (unzip foxub.$$ && rm -rf foxub.$$ && cd FoxUserbot-main ; python3 -m venv venv ; source venv/bin/activate ; python3 main.py --cli)"
      ],
      "metadata": {
        "colab": {
          "base_uri": "https://localhost:8080/"
        },
        "id": "-SeyhtMBTEOU",
        "outputId": "c0a1b628-4fdf-4a18-ca67-7b38def9e7cc"
      },
      "execution_count": null,
      "outputs": [
        {
          "output_type": "stream",
          "name": "stdout",
          "text": [
            "\u001b[33m\r0% [Working]\u001b[0m\r            \rHit:1 http://archive.ubuntu.com/ubuntu jammy InRelease\n",
            "\u001b[33m\r0% [Connecting to security.ubuntu.com (91.189.91.82)] [Connected to cloud.r-pro\u001b[0m\r                                                                               \rHit:2 http://archive.ubuntu.com/ubuntu jammy-updates InRelease\n",
            "\r                                                                               \rHit:3 http://archive.ubuntu.com/ubuntu jammy-backports InRelease\n",
            "\r                                                                               \rHit:4 https://cli.github.com/packages stable InRelease\n",
            "\u001b[33m\r0% [Connecting to security.ubuntu.com (91.189.91.82)] [Connected to cloud.r-pro\u001b[0m\r                                                                               \rHit:5 https://developer.download.nvidia.com/compute/cuda/repos/ubuntu2204/x86_64  InRelease\n",
            "\u001b[33m\r0% [Waiting for headers] [Waiting for headers] [Connecting to r2u.stat.illinois\u001b[0m\r                                                                               \rHit:6 https://cloud.r-project.org/bin/linux/ubuntu jammy-cran40/ InRelease\n",
            "\u001b[33m\r0% [Waiting for headers] [Connecting to r2u.stat.illinois.edu (192.17.190.167)]\u001b[0m\r                                                                               \rHit:7 https://ppa.launchpadcontent.net/deadsnakes/ppa/ubuntu jammy InRelease\n",
            "\u001b[33m\r                                                                               \r0% [Waiting for headers] [Connected to r2u.stat.illinois.edu (192.17.190.167)]\u001b[0m\r                                                                              \rHit:8 https://ppa.launchpadcontent.net/graphics-drivers/ppa/ubuntu jammy InRelease\n",
            "\u001b[33m\r0% [Waiting for headers] [Connected to r2u.stat.illinois.edu (192.17.190.167)] \u001b[0m\r                                                                               \rHit:9 https://ppa.launchpadcontent.net/ubuntugis/ppa/ubuntu jammy InRelease\n",
            "Hit:10 http://security.ubuntu.com/ubuntu jammy-security InRelease\n",
            "Hit:11 https://r2u.stat.illinois.edu/ubuntu jammy InRelease\n",
            "Reading package lists... Done\n",
            "Building dependency tree... Done\n",
            "Reading state information... Done\n",
            "44 packages can be upgraded. Run 'apt list --upgradable' to see them.\n",
            "\u001b[1;33mW: \u001b[0mSkipping acquire of configured file 'main/source/Sources' as repository 'https://r2u.stat.illinois.edu/ubuntu jammy InRelease' does not seem to provide it (sources.list entry misspelt?)\u001b[0m\n",
            "Reading package lists... Done\n",
            "Building dependency tree... Done\n",
            "Reading state information... Done\n",
            "python3 is already the newest version (3.10.6-1~22.04.1).\n",
            "unzip is already the newest version (6.0-26ubuntu3.2).\n",
            "wget is already the newest version (1.21.2-2ubuntu1.1).\n",
            "python3-pip is already the newest version (22.0.2+dfsg-1ubuntu0.7).\n",
            "python3-venv is already the newest version (3.10.6-1~22.04.1).\n",
            "0 upgraded, 0 newly installed, 0 to remove and 44 not upgraded.\n",
            "--2025-10-10 22:51:28--  https://github.com/FoxUserbot/FoxUserbot/archive/refs/heads/main.zip\n",
            "Resolving github.com (github.com)... 140.82.121.3\n",
            "Connecting to github.com (github.com)|140.82.121.3|:443... connected.\n",
            "HTTP request sent, awaiting response... 302 Found\n",
            "Location: https://codeload.github.com/FoxUserbot/FoxUserbot/zip/refs/heads/main [following]\n",
            "--2025-10-10 22:51:28--  https://codeload.github.com/FoxUserbot/FoxUserbot/zip/refs/heads/main\n",
            "Resolving codeload.github.com (codeload.github.com)... 140.82.121.10\n",
            "Connecting to codeload.github.com (codeload.github.com)|140.82.121.10|:443... connected.\n",
            "HTTP request sent, awaiting response... 200 OK\n",
            "Length: unspecified [application/zip]\n",
            "Saving to: ‘foxub.17331’\n",
            "\n",
            "foxub.17331             [    <=>             ]   8.36M  10.5MB/s    in 0.8s    \n",
            "\n",
            "2025-10-10 22:51:29 (10.5 MB/s) - ‘foxub.17331’ saved [8767536]\n",
            "\n",
            "Archive:  foxub.17331\n",
            "3d2b5f83bd34c733c03c061336b6dd49ef187ae3\n",
            "replace FoxUserbot-main/.gitignore? [y]es, [n]o, [A]ll, [N]one, [r]ename: A\n",
            "  inflating: FoxUserbot-main/.gitignore  \n",
            "  inflating: FoxUserbot-main/Dockerfile  \n",
            "  inflating: FoxUserbot-main/HowToGetPython3_8.sh  \n",
            "  inflating: FoxUserbot-main/LICENSE  \n",
            "  inflating: FoxUserbot-main/README.md  \n",
            "  inflating: FoxUserbot-main/command.py  \n",
            "  inflating: FoxUserbot-main/configurator.py  \n",
            "  inflating: FoxUserbot-main/main.py  \n",
            "  inflating: FoxUserbot-main/migrate.py  \n",
            "  inflating: FoxUserbot-main/modules/core/1banner.py  \n",
            "  inflating: FoxUserbot-main/modules/core/1merge_from_old_version.py  \n",
            "  inflating: FoxUserbot-main/modules/core/alias.py  \n",
            "  inflating: FoxUserbot-main/modules/core/backup.py  \n",
            "  inflating: FoxUserbot-main/modules/core/eval.py  \n",
            "  inflating: FoxUserbot-main/modules/core/find_id.py  \n",
            "  inflating: FoxUserbot-main/modules/core/help.py  \n",
            "  inflating: FoxUserbot-main/modules/core/info.py  \n",
            "  inflating: FoxUserbot-main/modules/core/loadmod.py  \n",
            "  inflating: FoxUserbot-main/modules/core/ping.py  \n",
            "  inflating: FoxUserbot-main/modules/core/restarter.py  \n",
            "  inflating: FoxUserbot-main/modules/core/settings/main_settings.py  \n",
            "  inflating: FoxUserbot-main/modules/core/sh.py  \n",
            "  inflating: FoxUserbot-main/modules/core/sprefix.py  \n",
            "  inflating: FoxUserbot-main/modules/core/sudousers.py  \n",
            "  inflating: FoxUserbot-main/modules/core/theme.py  \n",
            "  inflating: FoxUserbot-main/modules/core/unloadmod.py  \n",
            "  inflating: FoxUserbot-main/modules/core/uploadmod.py  \n",
            "  inflating: FoxUserbot-main/modules/core/uptime.py  \n",
            "  inflating: FoxUserbot-main/modules/loaded/1banner.py  \n",
            "  inflating: FoxUserbot-main/photos/FoxUB_help.jpg  \n",
            "  inflating: FoxUserbot-main/photos/FoxUB_info.jpg  \n",
            "  inflating: FoxUserbot-main/photos/logo.png  \n",
            "  inflating: FoxUserbot-main/prestarter.py  \n",
            "  inflating: FoxUserbot-main/replit-main.py  \n",
            " extracting: FoxUserbot-main/requirements.txt  \n",
            "  inflating: FoxUserbot-main/requirements_installer.py  \n",
            " extracting: FoxUserbot-main/temp/.gitignore  \n",
            "  inflating: FoxUserbot-main/web_auth/__init__.py  \n",
            "  inflating: FoxUserbot-main/web_auth/site.html  \n",
            "  inflating: FoxUserbot-main/web_auth/static/script.js  \n",
            "  inflating: FoxUserbot-main/web_auth/static/style.css  \n",
            "  inflating: FoxUserbot-main/web_auth/web_auth.py  \n",
            "  inflating: FoxUserbot-main/windows.bat  \n",
            "Error: Command '['/content/drive/MyDrive/FoxUserbot-main/venv/bin/python3', '-m', 'ensurepip', '--upgrade', '--default-pip']' returned non-zero exit status 1.\n",
            "/bin/bash: line 1: venv/bin/activate: No such file or directory\n",
            "2025-10-10 22:51:36,835 - INFO - Starting FoxUserbot...\n",
            "2025-10-10 22:51:40,201 - INFO - Using TgCrypto\n",
            "\u001b[2mUsing Python 3.12.11 environment at: /usr\u001b[0m\n",
            "\u001b[2K\u001b[2mResolved \u001b[1m19 packages\u001b[0m \u001b[2min 46ms\u001b[0m\u001b[0m\n",
            "\u001b[2mAudited \u001b[1m19 packages\u001b[0m \u001b[2min 0.49ms\u001b[0m\u001b[0m\n",
            "2025-10-10 22:51:40,919 - INFO - Installed with global uv: ['-r', 'requirements.txt', '-U']\n",
            "2025-10-10 22:51:40,928 - INFO - Logging restored after installing dependencies\n",
            "2025-10-10 22:51:41,105 - INFO - [Userbot] Session already exists, authorization not required\n",
            "📝 Logging: Checking connection to Telegram\n",
            "2025-10-10 22:51:41,165 - INFO - Connecting...\n",
            "2025-10-10 22:51:41,171 - INFO - Connected! Production DC2 - IPv4\n",
            "2025-10-10 22:51:41,173 - INFO - NetworkTask started\n",
            "2025-10-10 22:51:41,179 - INFO - Time synced: 2025-10-10 22:51:41.178107\n",
            "2025-10-10 22:51:41,206 - INFO - Session initialized: Pyrogram v2.2.12 (Layer 214)\n",
            "2025-10-10 22:51:41,206 - INFO - Device: FoxUserbot - Pyrogram 2.2.12\n",
            "2025-10-10 22:51:41,207 - INFO - System: Linux 6.6.97+ (en)\n",
            "2025-10-10 22:51:41,207 - INFO - Session started\n",
            "📝 Logging: Connection successful\n",
            "2025-10-10 22:51:41,208 - INFO - PingTask started\n",
            "2025-10-10 22:51:41,208 - INFO - PingTask stopped\n",
            "2025-10-10 22:51:41,208 - INFO - NetworkTask stopped\n",
            "2025-10-10 22:51:41,209 - INFO - Disconnected\n",
            "2025-10-10 22:51:41,209 - INFO - Session stopped\n",
            "📝 Logging: Disconnection after checking\n",
            "2025-10-10 22:51:41,284 - INFO - Connecting...\n",
            "2025-10-10 22:51:41,290 - INFO - Connected! Production DC2 - IPv4\n",
            "2025-10-10 22:51:41,291 - INFO - NetworkTask started\n",
            "2025-10-10 22:51:41,296 - INFO - Time synced: 2025-10-10 22:51:41.295589\n",
            "2025-10-10 22:51:41,319 - INFO - Session initialized: Pyrogram v2.2.12 (Layer 214)\n",
            "2025-10-10 22:51:41,320 - INFO - Device: FoxUserbot - Pyrogram 2.2.12\n",
            "2025-10-10 22:51:41,320 - INFO - System: Linux 6.6.97+ (en)\n",
            "2025-10-10 22:51:41,320 - INFO - Session started\n",
            "2025-10-10 22:51:41,321 - INFO - PingTask started\n",
            "2025-10-10 22:51:41,372 - INFO - Started 6 HandlerTasks\n",
            "2025-10-10 22:51:41,399 - INFO - Stopped 6 HandlerTasks\n",
            "2025-10-10 22:51:41,399 - INFO - PingTask stopped\n",
            "2025-10-10 22:51:41,400 - INFO - NetworkTask stopped\n",
            "2025-10-10 22:51:41,400 - INFO - Disconnected\n",
            "2025-10-10 22:51:41,400 - INFO - Session stopped\n",
            "\u001b[H\u001b[2J\u001b[?25l\u001b[38;2;255;20;0m\n",
            "\u001b[38;2;255;255;255m\u001b[38;2;255;20;0m╔\u001b[38;2;255;255;255m\u001b[38;2;255;40;0m═\u001b[38;2;255;255;255m\u001b[38;2;255;60;0m╗\u001b[38;2;255;255;255m\u001b[38;2;255;80;0m┌\u001b[38;2;255;255;255m\u001b[38;2;255;100;0m─\u001b[38;2;255;255;255m\u001b[38;2;255;120;0m┐\u001b[38;2;255;255;255m\u001b[38;2;255;140;0m─\u001b[38;2;255;255;255m\u001b[38;2;255;160;0m┐\u001b[38;2;255;255;255m\u001b[38;2;255;180;0m \u001b[38;2;255;255;255m\u001b[38;2;255;180;0m┬\u001b[38;2;255;255;255m\u001b[38;2;255;200;0m \u001b[38;2;255;255;255m\u001b[38;2;255;200;0m \u001b[38;2;255;255;255m\u001b[38;2;255;200;0m \u001b[38;2;255;255;255m\u001b[38;2;255;200;0m \u001b[38;2;255;255;255m\u001b[38;2;255;200;0m \u001b[38;2;255;255;255m\u001b[38;2;255;200;0m \u001b[38;2;255;255;255m\u001b[38;2;255;200;0m \u001b[38;2;255;255;255m\u001b[38;2;255;200;0m \u001b[38;2;255;255;255m\u001b[38;2;255;200;0m \u001b[38;2;255;255;255m\u001b[38;2;255;200;0m \u001b[38;2;255;255;255m\u001b[38;2;255;200;0m \u001b[38;2;255;255;255m\u001b[38;2;255;200;0m\n",
            "\u001b[38;2;255;255;255m\u001b[38;2;255;200;0m╠\u001b[38;2;255;255;255m\u001b[38;2;255;220;0m╣\u001b[38;2;255;255;255m\u001b[38;2;255;240;0m \u001b[38;2;255;255;255m\u001b[38;2;255;240;0m│\u001b[38;2;255;255;255m\u001b[38;2;255;220;0m \u001b[38;2;255;255;255m\u001b[38;2;255;220;0m│\u001b[38;2;255;255;255m\u001b[38;2;255;200;0m┌\u001b[38;2;255;255;255m\u001b[38;2;255;180;0m┴\u001b[38;2;255;255;255m\u001b[38;2;255;160;0m┬\u001b[38;2;255;255;255m\u001b[38;2;255;140;0m┘\u001b[38;2;255;255;255m\u001b[38;2;255;120;0m \u001b[38;2;255;255;255m\u001b[38;2;255;120;0m \u001b[38;2;255;255;255m\u001b[38;2;255;120;0m \u001b[38;2;255;255;255m\u001b[38;2;255;120;0m \u001b[38;2;255;255;255m\u001b[38;2;255;120;0m \u001b[38;2;255;255;255m\u001b[38;2;255;120;0m \u001b[38;2;255;255;255m\u001b[38;2;255;120;0m \u001b[38;2;255;255;255m\u001b[38;2;255;120;0m \u001b[38;2;255;255;255m\u001b[38;2;255;120;0m \u001b[38;2;255;255;255m\u001b[38;2;255;120;0m \u001b[38;2;255;255;255m\u001b[38;2;255;120;0m \u001b[38;2;255;255;255m\u001b[38;2;255;120;0m\n",
            "\u001b[38;2;255;255;255m\u001b[38;2;255;120;0m╚\u001b[38;2;255;255;255m\u001b[38;2;255;100;0m \u001b[38;2;255;255;255m\u001b[38;2;255;100;0m \u001b[38;2;255;255;255m\u001b[38;2;255;100;0m└\u001b[38;2;255;255;255m\u001b[38;2;255;80;0m─\u001b[38;2;255;255;255m\u001b[38;2;255;60;0m┘\u001b[38;2;255;255;255m\u001b[38;2;255;40;0m┴\u001b[38;2;255;255;255m\u001b[38;2;255;20;0m \u001b[38;2;255;255;255m\u001b[38;2;255;20;0m└\u001b[38;2;255;255;255m\u001b[38;2;255;0;0m─\u001b[38;2;255;255;255m\u001b[38;2;255;20;0m \u001b[38;2;255;255;255m\u001b[38;2;255;20;0m \u001b[38;2;255;255;255m\u001b[38;2;255;20;0m \u001b[38;2;255;255;255m\u001b[38;2;255;20;0m \u001b[38;2;255;255;255m\u001b[38;2;255;20;0m \u001b[38;2;255;255;255m\u001b[38;2;255;20;0m \u001b[38;2;255;255;255m\u001b[38;2;255;20;0m \u001b[38;2;255;255;255m\u001b[38;2;255;20;0m \u001b[38;2;255;255;255m\u001b[38;2;255;20;0m \u001b[38;2;255;255;255m\u001b[38;2;255;20;0m \u001b[38;2;255;255;255m\u001b[38;2;255;20;0m \u001b[38;2;255;255;255m\u001b[38;2;255;20;0m\n",
            "\u001b[38;2;255;255;255m\u001b[38;2;255;20;0m╦\u001b[38;2;255;255;255m\u001b[38;2;255;40;0m \u001b[38;2;255;255;255m\u001b[38;2;255;40;0m╦\u001b[38;2;255;255;255m\u001b[38;2;255;60;0m┌\u001b[38;2;255;255;255m\u001b[38;2;255;80;0m─\u001b[38;2;255;255;255m\u001b[38;2;255;100;0m┐\u001b[38;2;255;255;255m\u001b[38;2;255;120;0m┌\u001b[38;2;255;255;255m\u001b[38;2;255;140;0m─\u001b[38;2;255;255;255m\u001b[38;2;255;160;0m┐\u001b[38;2;255;255;255m\u001b[38;2;255;180;0m┬\u001b[38;2;255;255;255m\u001b[38;2;255;200;0m─\u001b[38;2;255;255;255m\u001b[38;2;255;220;0m┐\u001b[38;2;255;255;255m\u001b[38;2;255;240;0m┌\u001b[38;2;255;255;255m\u001b[38;2;255;220;0m┐\u001b[38;2;255;255;255m\u001b[38;2;255;200;0m \u001b[38;2;255;255;255m\u001b[38;2;255;200;0m┌\u001b[38;2;255;255;255m\u001b[38;2;255;180;0m─\u001b[38;2;255;255;255m\u001b[38;2;255;160;0m┐\u001b[38;2;255;255;255m\u001b[38;2;255;140;0m┌\u001b[38;2;255;255;255m\u001b[38;2;255;120;0m┬\u001b[38;2;255;255;255m\u001b[38;2;255;100;0m┐\u001b[38;2;255;255;255m\u001b[38;2;255;80;0m\n",
            "\u001b[38;2;255;255;255m\u001b[38;2;255;80;0m║\u001b[38;2;255;255;255m\u001b[38;2;255;60;0m \u001b[38;2;255;255;255m\u001b[38;2;255;60;0m║\u001b[38;2;255;255;255m\u001b[38;2;255;40;0m└\u001b[38;2;255;255;255m\u001b[38;2;255;20;0m─\u001b[38;2;255;255;255m\u001b[38;2;255;0;0m┐\u001b[38;2;255;255;255m\u001b[38;2;255;20;0m├\u001b[38;2;255;255;255m\u001b[38;2;255;40;0m┤\u001b[38;2;255;255;255m\u001b[38;2;255;60;0m \u001b[38;2;255;255;255m\u001b[38;2;255;60;0m├\u001b[38;2;255;255;255m\u001b[38;2;255;80;0m┬\u001b[38;2;255;255;255m\u001b[38;2;255;100;0m┘\u001b[38;2;255;255;255m\u001b[38;2;255;120;0m├\u001b[38;2;255;255;255m\u001b[38;2;255;140;0m┴\u001b[38;2;255;255;255m\u001b[38;2;255;160;0m┐\u001b[38;2;255;255;255m\u001b[38;2;255;180;0m│\u001b[38;2;255;255;255m\u001b[38;2;255;200;0m \u001b[38;2;255;255;255m\u001b[38;2;255;200;0m│\u001b[38;2;255;255;255m\u001b[38;2;255;220;0m \u001b[38;2;255;255;255m\u001b[38;2;255;220;0m│\u001b[38;2;255;255;255m\u001b[38;2;255;240;0m \u001b[38;2;255;255;255m\u001b[38;2;255;240;0m\n",
            "\u001b[38;2;255;255;255m\u001b[38;2;255;240;0m╚\u001b[38;2;255;255;255m\u001b[38;2;255;220;0m═\u001b[38;2;255;255;255m\u001b[38;2;255;200;0m╝\u001b[38;2;255;255;255m\u001b[38;2;255;180;0m└\u001b[38;2;255;255;255m\u001b[38;2;255;160;0m─\u001b[38;2;255;255;255m\u001b[38;2;255;140;0m┘\u001b[38;2;255;255;255m\u001b[38;2;255;120;0m└\u001b[38;2;255;255;255m\u001b[38;2;255;100;0m─\u001b[38;2;255;255;255m\u001b[38;2;255;80;0m┘\u001b[38;2;255;255;255m\u001b[38;2;255;60;0m┴\u001b[38;2;255;255;255m\u001b[38;2;255;40;0m└\u001b[38;2;255;255;255m\u001b[38;2;255;20;0m─\u001b[38;2;255;255;255m\u001b[38;2;255;0;0m└\u001b[38;2;255;255;255m\u001b[38;2;255;20;0m─\u001b[38;2;255;255;255m\u001b[38;2;255;40;0m┘\u001b[38;2;255;255;255m\u001b[38;2;255;60;0m└\u001b[38;2;255;255;255m\u001b[38;2;255;80;0m─\u001b[38;2;255;255;255m\u001b[38;2;255;100;0m┘\u001b[38;2;255;255;255m\u001b[38;2;255;120;0m \u001b[38;2;255;255;255m\u001b[38;2;255;120;0m┴\u001b[38;2;255;255;255m\u001b[38;2;255;140;0m \u001b[38;2;255;255;255m\u001b[38;2;255;140;0m\n",
            "\u001b[38;2;255;255;255m\u001b[38;2;255;140;0mG\u001b[38;2;255;255;255m\u001b[38;2;255;160;0mi\u001b[38;2;255;255;255m\u001b[38;2;255;180;0mt\u001b[38;2;255;255;255m\u001b[38;2;255;200;0mh\u001b[38;2;255;255;255m\u001b[38;2;255;220;0mu\u001b[38;2;255;255;255m\u001b[38;2;255;240;0mb\u001b[38;2;255;255;255m\u001b[38;2;255;220;0m:\u001b[38;2;255;255;255m\u001b[38;2;255;200;0m \u001b[38;2;255;255;255m\u001b[38;2;255;200;0mh\u001b[38;2;255;255;255m\u001b[38;2;255;180;0mt\u001b[38;2;255;255;255m\u001b[38;2;255;160;0mt\u001b[38;2;255;255;255m\u001b[38;2;255;140;0mp\u001b[38;2;255;255;255m\u001b[38;2;255;120;0ms\u001b[38;2;255;255;255m\u001b[38;2;255;100;0m:\u001b[38;2;255;255;255m\u001b[38;2;255;80;0m/\u001b[38;2;255;255;255m\u001b[38;2;255;60;0m/\u001b[38;2;255;255;255m\u001b[38;2;255;40;0mg\u001b[38;2;255;255;255m\u001b[38;2;255;20;0mi\u001b[38;2;255;255;255m\u001b[38;2;255;0;0mt\u001b[38;2;255;255;255m\u001b[38;2;255;20;0mh\u001b[38;2;255;255;255m\u001b[38;2;255;40;0mu\u001b[38;2;255;255;255m\u001b[38;2;255;60;0mb\u001b[38;2;255;255;255m\u001b[38;2;255;80;0m.\u001b[38;2;255;255;255m\u001b[38;2;255;100;0mc\u001b[38;2;255;255;255m\u001b[38;2;255;120;0mo\u001b[38;2;255;255;255m\u001b[38;2;255;140;0mm\u001b[38;2;255;255;255m\u001b[38;2;255;160;0m/\u001b[38;2;255;255;255m\u001b[38;2;255;180;0mF\u001b[38;2;255;255;255m\u001b[38;2;255;200;0mo\u001b[38;2;255;255;255m\u001b[38;2;255;220;0mx\u001b[38;2;255;255;255m\u001b[38;2;255;240;0mU\u001b[38;2;255;255;255m\u001b[38;2;255;220;0ms\u001b[38;2;255;255;255m\u001b[38;2;255;200;0me\u001b[38;2;255;255;255m\u001b[38;2;255;180;0mr\u001b[38;2;255;255;255m\u001b[38;2;255;160;0mb\u001b[38;2;255;255;255m\u001b[38;2;255;140;0mo\u001b[38;2;255;255;255m\u001b[38;2;255;120;0mt\u001b[38;2;255;255;255m\u001b[38;2;255;100;0m/\u001b[38;2;255;255;255m\u001b[38;2;255;80;0mF\u001b[38;2;255;255;255m\u001b[38;2;255;60;0mo\u001b[38;2;255;255;255m\u001b[38;2;255;40;0mx\u001b[38;2;255;255;255m\u001b[38;2;255;20;0mU\u001b[38;2;255;255;255m\u001b[38;2;255;0;0ms\u001b[38;2;255;255;255m\u001b[38;2;255;20;0me\u001b[38;2;255;255;255m\u001b[38;2;255;40;0mr\u001b[38;2;255;255;255m\u001b[38;2;255;60;0mb\u001b[38;2;255;255;255m\u001b[38;2;255;80;0mo\u001b[38;2;255;255;255m\u001b[38;2;255;100;0mt\u001b[38;2;255;255;255m\u001b[38;2;255;120;0m\n",
            "\u001b[38;2;255;255;255m\u001b[38;2;255;120;0mV\u001b[38;2;255;255;255m\u001b[38;2;255;140;0me\u001b[38;2;255;255;255m\u001b[38;2;255;160;0mr\u001b[38;2;255;255;255m\u001b[38;2;255;180;0ms\u001b[38;2;255;255;255m\u001b[38;2;255;200;0mi\u001b[38;2;255;255;255m\u001b[38;2;255;220;0mo\u001b[38;2;255;255;255m\u001b[38;2;255;240;0mn\u001b[38;2;255;255;255m\u001b[38;2;255;220;0m:\u001b[38;2;255;255;255m\u001b[38;2;255;200;0m \u001b[38;2;255;255;255m\u001b[38;2;255;200;0m2\u001b[38;2;255;255;255m\u001b[38;2;255;180;0m.\u001b[38;2;255;255;255m\u001b[38;2;255;160;0m6\u001b[38;2;255;255;255m\u001b[38;2;255;140;0m\n",
            "\u001b[38;2;255;255;255m\u001b[38;2;255;140;0mP\u001b[38;2;255;255;255m\u001b[38;2;255;120;0mr\u001b[38;2;255;255;255m\u001b[38;2;255;100;0me\u001b[38;2;255;255;255m\u001b[38;2;255;80;0mf\u001b[38;2;255;255;255m\u001b[38;2;255;60;0mi\u001b[38;2;255;255;255m\u001b[38;2;255;40;0mx\u001b[38;2;255;255;255m\u001b[38;2;255;20;0m:\u001b[38;2;255;255;255m\u001b[38;2;255;0;0m \u001b[38;2;255;255;255m\u001b[38;2;255;0;0m!\u001b[38;2;255;255;255m\u001b[38;2;255;20;0m\n",
            "\u001b[38;2;255;255;255m\u001b[38;2;255;255;255m\u001b[?25h2025-10-10 22:51:41,514 - INFO - [LOADER] Loading system modules...\n",
            "2025-10-10 22:51:41,639 - INFO - [my_account] [LOAD] MessageHandler(\"handle_aliases\") in group 0 from \"modules.core.alias\"\n",
            "2025-10-10 22:51:41,686 - INFO - [my_account] [LOAD] MessageHandler(\"backup_command\") in group 0 from \"modules.core.backup\"\n",
            "2025-10-10 22:51:41,686 - INFO - [my_account] [LOAD] MessageHandler(\"restore_command\") in group 0 from \"modules.core.backup\"\n",
            "2025-10-10 22:51:41,686 - INFO - [my_account] [LOAD] MessageHandler(\"backup_modules_command\") in group 0 from \"modules.core.backup\"\n",
            "2025-10-10 22:51:41,709 - INFO - [my_account] [LOAD] MessageHandler(\"user_exec\") in group 0 from \"modules.core.eval\"\n",
            "2025-10-10 22:51:41,731 - INFO - [my_account] [LOAD] MessageHandler(\"find_id\") in group 0 from \"modules.core.find_id\"\n",
            "2025-10-10 22:51:41,884 - INFO - [my_account] [LOAD] MessageHandler(\"helps\") in group 0 from \"modules.core.help\"\n",
            "2025-10-10 22:51:41,953 - INFO - [my_account] [LOAD] MessageHandler(\"info\") in group 0 from \"modules.core.info\"\n",
            "2025-10-10 22:51:41,976 - INFO - [my_account] [LOAD] MessageHandler(\"loadmod\") in group 0 from \"modules.core.loadmod\"\n",
            "2025-10-10 22:51:41,995 - INFO - [my_account] [LOAD] MessageHandler(\"ping\") in group 0 from \"modules.core.ping\"\n",
            "2025-10-10 22:51:41,996 - INFO - [my_account] [LOAD] MessageHandler(\"restart_get\") in group 0 from \"modules.core.restarter\"\n",
            "2025-10-10 22:51:41,996 - INFO - [my_account] [LOAD] MessageHandler(\"update\") in group 0 from \"modules.core.restarter\"\n",
            "2025-10-10 22:51:41,996 - INFO - [my_account] [LOAD] MessageHandler(\"update_beta\") in group 0 from \"modules.core.restarter\"\n",
            "2025-10-10 22:51:42,021 - INFO - [my_account] [LOAD] MessageHandler(\"shell\") in group 0 from \"modules.core.sh\"\n",
            "2025-10-10 22:51:42,047 - INFO - [my_account] [LOAD] MessageHandler(\"sprefix\") in group 0 from \"modules.core.sprefix\"\n",
            "2025-10-10 22:51:42,067 - INFO - [my_account] [LOAD] MessageHandler(\"sudo_manager\") in group 0 from \"modules.core.sudousers\"\n",
            "2025-10-10 22:51:42,092 - INFO - [my_account] [LOAD] MessageHandler(\"theme_command\") in group 0 from \"modules.core.theme\"\n",
            "2025-10-10 22:51:42,137 - INFO - [my_account] [LOAD] MessageHandler(\"unloadmod\") in group 0 from \"modules.core.unloadmod\"\n",
            "2025-10-10 22:51:42,161 - INFO - [my_account] [LOAD] MessageHandler(\"uploadmod\") in group 0 from \"modules.core.uploadmod\"\n",
            "2025-10-10 22:51:42,195 - INFO - [LOADER] Loading custom modules...\n",
            "\n",
            "2025-10-10 22:51:42,196 - INFO - [my_account] Successfully loaded 19 plugins from \"modules\"\n",
            "2025-10-10 22:51:42,233 - INFO - Connecting...\n",
            "2025-10-10 22:51:42,238 - INFO - Connected! Production DC2 - IPv4\n",
            "2025-10-10 22:51:42,239 - INFO - NetworkTask started\n",
            "2025-10-10 22:51:42,245 - INFO - Time synced: 2025-10-10 22:51:42.243973\n",
            "2025-10-10 22:51:42,262 - INFO - Session initialized: Pyrogram v2.2.12 (Layer 214)\n",
            "2025-10-10 22:51:42,262 - INFO - Device: FoxUserbot - Pyrogram 2.2.12\n",
            "2025-10-10 22:51:42,262 - INFO - System: Linux 6.6.97+ (en)\n",
            "2025-10-10 22:51:42,263 - INFO - Session started\n",
            "2025-10-10 22:51:42,263 - INFO - PingTask started\n",
            "2025-10-10 22:51:42,321 - INFO - Started 6 HandlerTasks\n"
          ]
        }
      ]
    }
  ]
}